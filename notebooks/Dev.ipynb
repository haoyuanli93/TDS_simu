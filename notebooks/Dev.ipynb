{
 "cells": [
  {
   "cell_type": "code",
   "execution_count": 1,
   "metadata": {},
   "outputs": [],
   "source": [
    "import numpy as np\n",
    "import matplotlib.pyplot as plt"
   ]
  },
  {
   "cell_type": "markdown",
   "metadata": {},
   "source": [
    "# First construst the period dynamical matrix"
   ]
  },
  {
   "cell_type": "code",
   "execution_count": 4,
   "metadata": {},
   "outputs": [],
   "source": [
    "# Atom info inside a single unit cell\n",
    "atom_num = 2\n",
    "atom_mass_array = np.array([1., 1.]) # The mass unit is the mass of the carbon.\n",
    "\n",
    "# Info of unit cells used to construct the dynamical matrix\n",
    "unit_num0 = 3\n",
    "unit_num1 = 3\n",
    "unit_num2 = 3\n",
    "unit_cell_positions = np.stack(np.meshgrid(np.arange(-unit_num0 - 1, unit_num0),\n",
    "                                           np.arange(-unit_num1 - 1, unit_num1),\n",
    "                                           np.arange(-unit_num2 - 1, unit_num2)),\n",
    "                               axis=-1)\n",
    "\n",
    "# Define Born-von Karmon force constants\n",
    "#\n",
    "# In this definition, the first dimension is for the first atom index. The second dimension \n",
    "# is for the second atom dimension. The third dimension is for the x,y,z index for the first \n",
    "# atom. The forth dimension is for the x,y,z index for the second atom. The 5th, 6th, 7th\n",
    "# index is for the relative displacement for the x, y, z unit cell.\n",
    "#\n",
    "bvk_matrix = np.zeros((atom_num, atom_num, 3, 3, \n",
    "                       2 * unit_num0 + 1,\n",
    "                       2 * unit_num1 + 1,\n",
    "                       2 * unit_num2 + 1))\n",
    "for l in range(atom_num):\n",
    "    for m in range(atom_num):\n",
    "        for n in range(3):\n",
    "            for a in range(3):\n",
    "                bvk_matrix[l,m,n,a]= np.random.rand(2 * unit_num0 + 1,\n",
    "                                                    2 * unit_num1 + 1,\n",
    "                                                    2 * unit_num2 + 1)\n",
    "\n",
    "\n",
    "# Define the k vector\n",
    "k_vec = 12.* np.random.rand(3)"
   ]
  },
  {
   "cell_type": "code",
   "execution_count": null,
   "metadata": {},
   "outputs": [],
   "source": [
    "\n"
   ]
  }
 ],
 "metadata": {
  "kernelspec": {
   "display_name": "Python 3",
   "language": "python",
   "name": "python3"
  },
  "language_info": {
   "codemirror_mode": {
    "name": "ipython",
    "version": 3
   },
   "file_extension": ".py",
   "mimetype": "text/x-python",
   "name": "python",
   "nbconvert_exporter": "python",
   "pygments_lexer": "ipython3",
   "version": "3.6.8"
  }
 },
 "nbformat": 4,
 "nbformat_minor": 2
}
